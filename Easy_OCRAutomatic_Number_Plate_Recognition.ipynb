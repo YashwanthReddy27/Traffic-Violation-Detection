{
  "cells": [
    {
      "cell_type": "code",
      "execution_count": null,
      "id": "175d2faa",
      "metadata": {
        "colab": {
          "base_uri": "https://localhost:8080/"
        },
        "id": "175d2faa",
        "outputId": "1f1766f7-7454-41b1-a486-17f4b0441192"
      },
      "outputs": [
        {
          "output_type": "stream",
          "name": "stdout",
          "text": [
            "[[[ 67 110  99]\n",
            "  [ 68 114 102]\n",
            "  [ 93 139 127]\n",
            "  ...\n",
            "  [246 248 236]\n",
            "  [247 249 237]\n",
            "  [245 249 237]]\n",
            "\n",
            " [[103 146 131]\n",
            "  [ 86 131 115]\n",
            "  [124 171 155]\n",
            "  ...\n",
            "  [248 248 236]\n",
            "  [246 248 236]\n",
            "  [244 248 236]]\n",
            "\n",
            " [[ 85 129 106]\n",
            "  [ 81 125 102]\n",
            "  [104 151 129]\n",
            "  ...\n",
            "  [249 247 236]\n",
            "  [247 246 236]\n",
            "  [245 246 236]]\n",
            "\n",
            " ...\n",
            "\n",
            " [[177 178 174]\n",
            "  [178 179 175]\n",
            "  [177 178 174]\n",
            "  ...\n",
            "  [181 182 178]\n",
            "  [179 180 176]\n",
            "  [179 180 176]]\n",
            "\n",
            " [[179 180 176]\n",
            "  [179 180 176]\n",
            "  [178 179 175]\n",
            "  ...\n",
            "  [180 181 177]\n",
            "  [178 179 175]\n",
            "  [178 179 175]]\n",
            "\n",
            " [[179 180 176]\n",
            "  [179 180 176]\n",
            "  [179 180 176]\n",
            "  ...\n",
            "  [179 180 176]\n",
            "  [179 180 176]\n",
            "  [179 180 176]]]\n"
          ]
        }
      ],
      "source": [
        "import cv2\n",
        "import matplotlib.pyplot as plt\n",
        "import numpy as np\n",
        "import imutils\n",
        "import easyocr\n",
        "img = cv2.imread('download.jpeg')\n",
        "print(img)"
      ]
    },
    {
      "cell_type": "code",
      "execution_count": null,
      "id": "9b017c52",
      "metadata": {
        "id": "9b017c52"
      },
      "outputs": [],
      "source": [
        "cascade = cv2.CascadeClassifier('haarcascade_russian_plate_number.xml')"
      ]
    },
    {
      "cell_type": "code",
      "execution_count": null,
      "id": "f74bb19f",
      "metadata": {
        "id": "f74bb19f"
      },
      "outputs": [],
      "source": [
        "gray = cv2.cvtColor(img, cv2.COLOR_BGR2GRAY)\n",
        "plates = cascade.detectMultiScale(gray, 1.1, 4)\n",
        "for (x,y,w,h) in plates:\n",
        "    cv2.rectangle(img,(x,y),(x+w,y+h),(255,0,0),2)\n",
        "    plate = img[y:y+h, x:x+w]\n",
        "    cv2.imwrite('number_plate.jpg', plate)\n",
        "\n",
        "# Display the image\n",
        "#cv2.imshow('img',img)\n",
        "#cv2.waitKey(0)\n",
        "#cv2.destroyAllWindows()\n",
        "number_plate=cv2.imread('number_plate.jpg')"
      ]
    },
    {
      "cell_type": "code",
      "execution_count": null,
      "id": "8e360d7e",
      "metadata": {
        "colab": {
          "base_uri": "https://localhost:8080/"
        },
        "id": "8e360d7e",
        "outputId": "e594a946-0508-4773-9853-f97bf65917bd"
      },
      "outputs": [
        {
          "output_type": "stream",
          "name": "stdout",
          "text": [
            "()\n"
          ]
        }
      ],
      "source": []
    },
    {
      "cell_type": "code",
      "execution_count": null,
      "id": "d8a3179f",
      "metadata": {
        "colab": {
          "base_uri": "https://localhost:8080/",
          "height": 164
        },
        "id": "d8a3179f",
        "outputId": "e0f622ea-ffb9-468a-bb32-4c7c0ea5557c"
      },
      "outputs": [
        {
          "output_type": "error",
          "ename": "error",
          "evalue": "OpenCV(4.8.0) /io/opencv/modules/imgproc/src/color.cpp:182: error: (-215:Assertion failed) !_src.empty() in function 'cvtColor'\n",
          "traceback": [
            "\u001b[0;31m---------------------------------------------------------------------------\u001b[0m",
            "\u001b[0;31merror\u001b[0m                                     Traceback (most recent call last)",
            "\u001b[0;32m<ipython-input-16-fe8988621d96>\u001b[0m in \u001b[0;36m<cell line: 1>\u001b[0;34m()\u001b[0m\n\u001b[0;32m----> 1\u001b[0;31m \u001b[0mgray\u001b[0m \u001b[0;34m=\u001b[0m \u001b[0mcv2\u001b[0m\u001b[0;34m.\u001b[0m\u001b[0mcvtColor\u001b[0m\u001b[0;34m(\u001b[0m\u001b[0mnumber_plate\u001b[0m\u001b[0;34m,\u001b[0m\u001b[0mcv2\u001b[0m\u001b[0;34m.\u001b[0m\u001b[0mCOLOR_BGR2GRAY\u001b[0m\u001b[0;34m)\u001b[0m\u001b[0;34m\u001b[0m\u001b[0;34m\u001b[0m\u001b[0m\n\u001b[0m",
            "\u001b[0;31merror\u001b[0m: OpenCV(4.8.0) /io/opencv/modules/imgproc/src/color.cpp:182: error: (-215:Assertion failed) !_src.empty() in function 'cvtColor'\n"
          ]
        }
      ],
      "source": [
        "gray = cv2.cvtColor(number_plate,cv2.COLOR_BGR2GRAY)"
      ]
    },
    {
      "cell_type": "code",
      "execution_count": null,
      "id": "50797f5c",
      "metadata": {
        "scrolled": true,
        "id": "50797f5c"
      },
      "outputs": [],
      "source": [
        "plt.imshow(gray)"
      ]
    },
    {
      "cell_type": "code",
      "execution_count": null,
      "id": "af0e8273",
      "metadata": {
        "scrolled": true,
        "id": "af0e8273"
      },
      "outputs": [],
      "source": [
        "plt.imshow(cv2.cvtColor(gray, cv2.COLOR_BGR2RGB))"
      ]
    },
    {
      "cell_type": "code",
      "execution_count": null,
      "id": "f103f091",
      "metadata": {
        "id": "f103f091"
      },
      "outputs": [],
      "source": [
        "bfilter = cv2.bilateralFilter(gray, 11, 11, 17)"
      ]
    },
    {
      "cell_type": "code",
      "execution_count": null,
      "id": "f764263e",
      "metadata": {
        "id": "f764263e"
      },
      "outputs": [],
      "source": [
        "edged = cv2.Canny(bfilter, 30, 200)"
      ]
    },
    {
      "cell_type": "code",
      "execution_count": null,
      "id": "ed8e6b9c",
      "metadata": {
        "id": "ed8e6b9c"
      },
      "outputs": [],
      "source": [
        "plt.imshow(cv2.cvtColor(edged, cv2.COLOR_BGR2RGB))"
      ]
    },
    {
      "cell_type": "code",
      "execution_count": null,
      "id": "ba4df582",
      "metadata": {
        "id": "ba4df582"
      },
      "outputs": [],
      "source": [
        "#  cv.CHAIN_APPROX_NONE gives (734 points) and  with cv.CHAIN_APPROX_SIMPLE (only 4 points)\n",
        "\n",
        "keypoints = cv2.findContours(edged.copy(), cv2.RETR_TREE, cv2.CHAIN_APPROX_SIMPLE)"
      ]
    },
    {
      "cell_type": "code",
      "execution_count": null,
      "id": "600a1df0",
      "metadata": {
        "id": "600a1df0"
      },
      "outputs": [],
      "source": [
        "# Simplifies how contonours are actually returned\n",
        "contours = imutils.grab_contours(keypoints)"
      ]
    },
    {
      "cell_type": "code",
      "execution_count": null,
      "id": "376367ef",
      "metadata": {
        "id": "376367ef"
      },
      "outputs": [],
      "source": [
        "contours = sorted(contours, key = cv2.contourArea, reverse = True)[:10]"
      ]
    },
    {
      "cell_type": "code",
      "execution_count": null,
      "id": "7b6356f0",
      "metadata": {
        "id": "7b6356f0"
      },
      "outputs": [],
      "source": [
        "print(contours)"
      ]
    },
    {
      "cell_type": "code",
      "execution_count": null,
      "id": "0d6a6d65",
      "metadata": {
        "id": "0d6a6d65"
      },
      "outputs": [],
      "source": [
        "location = None\n",
        "\n",
        "for contour in contours:\n",
        "  # cv2.approxPolyDP returns a resampled contour, so this will still return a set of (x, y) points\n",
        "  approx = cv2.approxPolyDP(contour, 10, True)\n",
        "  if len(approx) == 4:\n",
        "    location = approx\n",
        "    break"
      ]
    },
    {
      "cell_type": "code",
      "execution_count": null,
      "id": "92f10863",
      "metadata": {
        "id": "92f10863"
      },
      "outputs": [],
      "source": [
        "print(location)"
      ]
    },
    {
      "cell_type": "code",
      "execution_count": null,
      "id": "0f8d9e3c",
      "metadata": {
        "id": "0f8d9e3c"
      },
      "outputs": [],
      "source": [
        "mask = np.zeros(gray.shape, np.uint8)"
      ]
    },
    {
      "cell_type": "code",
      "execution_count": null,
      "id": "88fb2574",
      "metadata": {
        "id": "88fb2574"
      },
      "outputs": [],
      "source": [
        "new_image = cv2.drawContours(mask, [location], 0, 255, -1)\n",
        "\n",
        "#new_image = cv2.bitwise_and(img, img, mask = mask)\n",
        "\n",
        "\n",
        "plt.imshow(cv2.cvtColor(new_image, cv2.COLOR_BGR2RGB))"
      ]
    },
    {
      "cell_type": "code",
      "execution_count": null,
      "id": "b28e3f5e",
      "metadata": {
        "id": "b28e3f5e"
      },
      "outputs": [],
      "source": [
        "(x, y) = np.where(mask == 255)\n",
        "\n",
        "(x1, y1) = (np.min(x), np.min(y))\n",
        "\n",
        "(x2, y2) = (np.max(x), np.max(y))"
      ]
    },
    {
      "cell_type": "code",
      "execution_count": null,
      "id": "d0af3a0e",
      "metadata": {
        "id": "d0af3a0e"
      },
      "outputs": [],
      "source": [
        "cropped_image = gray[x1:x2+3, y1:y2+3]\n",
        "\n",
        "plt.imshow(cv2.cvtColor(cropped_image, cv2.COLOR_BGR2RGB))"
      ]
    },
    {
      "cell_type": "code",
      "execution_count": null,
      "id": "cabf9eec",
      "metadata": {
        "id": "cabf9eec"
      },
      "outputs": [],
      "source": [
        "reader = easyocr.Reader(['en'])\n",
        "\n",
        "result = reader.readtext(gray)\n",
        "\n",
        "print(result)"
      ]
    },
    {
      "cell_type": "code",
      "execution_count": null,
      "id": "7e34953d",
      "metadata": {
        "id": "7e34953d"
      },
      "outputs": [],
      "source": [
        "print(result[0][0])"
      ]
    },
    {
      "cell_type": "code",
      "execution_count": null,
      "id": "1584a343",
      "metadata": {
        "id": "1584a343"
      },
      "outputs": [],
      "source": [
        "print(result[0][1])"
      ]
    },
    {
      "cell_type": "code",
      "execution_count": null,
      "id": "e2520861",
      "metadata": {
        "id": "e2520861"
      },
      "outputs": [],
      "source": [
        "text = result[0][1]\n",
        "\n",
        "font = cv2.FONT_HERSHEY_SIMPLEX"
      ]
    },
    {
      "cell_type": "code",
      "execution_count": null,
      "id": "8a5a3ba0",
      "metadata": {
        "id": "8a5a3ba0"
      },
      "outputs": [],
      "source": []
    },
    {
      "cell_type": "code",
      "execution_count": null,
      "id": "acada6a6",
      "metadata": {
        "id": "acada6a6"
      },
      "outputs": [],
      "source": [
        "res = cv2.putText(img, text = text, org = (approx[0][0][0], approx[1][0][1]+60), fontFace = font, fontScale = 1, color = (0, 255, 0), thickness = 5)"
      ]
    },
    {
      "cell_type": "code",
      "execution_count": null,
      "id": "ceb64d5a",
      "metadata": {
        "id": "ceb64d5a"
      },
      "outputs": [],
      "source": [
        "res = cv2.rectangle(img, tuple(approx[0][0]), tuple(approx[2][0]), (0,255, 0), 3)\n",
        "\n",
        "plt.imshow(cv2.cvtColor(res, cv2.COLOR_BGR2RGB))"
      ]
    },
    {
      "cell_type": "code",
      "execution_count": null,
      "id": "74a1bae4",
      "metadata": {
        "id": "74a1bae4"
      },
      "outputs": [],
      "source": []
    }
  ],
  "metadata": {
    "kernelspec": {
      "display_name": "Python 3 (ipykernel)",
      "language": "python",
      "name": "python3"
    },
    "language_info": {
      "codemirror_mode": {
        "name": "ipython",
        "version": 3
      },
      "file_extension": ".py",
      "mimetype": "text/x-python",
      "name": "python",
      "nbconvert_exporter": "python",
      "pygments_lexer": "ipython3",
      "version": "3.9.7"
    },
    "colab": {
      "provenance": []
    }
  },
  "nbformat": 4,
  "nbformat_minor": 5
}